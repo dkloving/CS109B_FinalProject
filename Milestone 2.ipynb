{
 "cells": [
  {
   "cell_type": "markdown",
   "metadata": {},
   "source": [
    "# CS109B Milestone 2\n",
    "\n",
    "### Dor Baruch, Michaela Kane, David Loving, & Brandon Walker, "
   ]
  },
  {
   "cell_type": "markdown",
   "metadata": {},
   "source": [
    "#### Part 1: Literature Review"
   ]
  },
  {
   "cell_type": "markdown",
   "metadata": {},
   "source": [
    "_He et al. “Deep Residual Learning for Image Recognition”_\n",
    "\n",
    "\n",
    "    attempt to use a residual learning framework to more easily train a deep neural network\n",
    "    reformulate layers as learning residual functions with reference to layer inputs instead of learning unreferenced functions\n",
    "    use of deep neural networks for improved image classification \n",
    "    but when deeper neural networks start converging, we see degradation problem = as depth increases, network accuracy degrades\n",
    "    NOT due to overfitting\n",
    "    indicates not all systems are easy to optimize\n",
    "    try to address degradation problem using deep residual learning framework → explicitly let stacked layers fit a desired underlying mapping (residual mapping)\n"
   ]
  },
  {
   "cell_type": "markdown",
   "metadata": {},
   "source": [
    "#### Part 2: Project Proposal"
   ]
  },
  {
   "cell_type": "markdown",
   "metadata": {},
   "source": [
    "#### Part 3: Preliminary EDA"
   ]
  },
  {
   "cell_type": "code",
   "execution_count": null,
   "metadata": {},
   "outputs": [],
   "source": []
  }
 ],
 "metadata": {
  "kernelspec": {
   "display_name": "Python 2",
   "language": "python",
   "name": "python2"
  },
  "language_info": {
   "codemirror_mode": {
    "name": "ipython",
    "version": 2
   },
   "file_extension": ".py",
   "mimetype": "text/x-python",
   "name": "python",
   "nbconvert_exporter": "python",
   "pygments_lexer": "ipython2",
   "version": "2.7.13"
  }
 },
 "nbformat": 4,
 "nbformat_minor": 2
}
